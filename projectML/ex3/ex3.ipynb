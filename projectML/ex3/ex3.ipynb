{
 "cells": [
  {
   "cell_type": "code",
   "execution_count": 2,
   "metadata": {},
   "outputs": [],
   "source": [
    "import numpy as np\n",
    "from scipy.io import loadmat "
   ]
  },
  {
   "cell_type": "code",
   "execution_count": 3,
   "metadata": {
    "scrolled": true
   },
   "outputs": [
    {
     "name": "stdout",
     "output_type": "stream",
     "text": [
      "{'__header__': b'MATLAB 5.0 MAT-file, Platform: GLNXA64, Created on: Sun Oct 16 13:09:09 2011', '__version__': '1.0', '__globals__': [], 'X': array([[0., 0., 0., ..., 0., 0., 0.],\n",
      "       [0., 0., 0., ..., 0., 0., 0.],\n",
      "       [0., 0., 0., ..., 0., 0., 0.],\n",
      "       ...,\n",
      "       [0., 0., 0., ..., 0., 0., 0.],\n",
      "       [0., 0., 0., ..., 0., 0., 0.],\n",
      "       [0., 0., 0., ..., 0., 0., 0.]]), 'y': array([[10],\n",
      "       [10],\n",
      "       [10],\n",
      "       ...,\n",
      "       [ 9],\n",
      "       [ 9],\n",
      "       [ 9]], dtype=uint8)}\n"
     ]
    }
   ],
   "source": [
    "data = loadmat('ex3data1.mat')\n",
    "print(data)"
   ]
  },
  {
   "cell_type": "code",
   "execution_count": 4,
   "metadata": {},
   "outputs": [],
   "source": [
    "def sigmoid(z):\n",
    "    return 1 / (1 + np.exp(-z))"
   ]
  },
  {
   "attachments": {
    "sigmoid.png": {
     "image/png": "[encoded data removed]"
    }
   },
   "cell_type": "markdown",
   "metadata": {},
   "source": [
    "![sigmoid.png](attachment:sigmoid.png)"
   ]
  },
  {
   "attachments": {
    "cost.png": {
     "image/png": "[encoded data removed]"
    }
   },
   "cell_type": "markdown",
   "metadata": {},
   "source": [
    "![cost.png](attachment:cost.png)"
   ]
  },
  {
   "cell_type": "code",
   "execution_count": 10,
   "metadata": {},
   "outputs": [],
   "source": [
    "def cost(theta, X, y, lr):\n",
    "    theta = np.matrix(theta)\n",
    "    X = np.matrix(X)\n",
    "    y = np.matrix(y)\n",
    "    first = np.multiply(-y, np.log(sigmoid(X * theta.T)))\n",
    "    second = np.multiply(1-y, np.log(1 - sigmoid(X * theta.T)))\n",
    "    reg = (lr / (2 * len(X))) * np.sum(np.power(theta[:, 1:theta.shape[1]], 2))\n",
    "    return np.sum(first -second) / (len(X)) + reg"
   ]
  },
  {
   "attachments": {
    "%E6%A2%AF%E5%BA%A6%E4%B8%8B%E9%99%8D.png": {
     "image/png": "[encoded data removed]"
    }
   },
   "cell_type": "markdown",
   "metadata": {},
   "source": [
    "![%E6%A2%AF%E5%BA%A6%E4%B8%8B%E9%99%8D.png](attachment:%E6%A2%AF%E5%BA%A6%E4%B8%8B%E9%99%8D.png)"
   ]
  },
  {
   "cell_type": "code",
   "execution_count": 6,
   "metadata": {},
   "outputs": [],
   "source": [
    "def gradient(theta, X, y, lr):\n",
    "    theta = np.matrix(theta)\n",
    "    X = np.matrix(X)\n",
    "    y = np.matrix(y)\n",
    "    error = sigmoid(X * theta.T) - y\n",
    "    grad = (X.T * error / len(X)).T + lr / len(X) * theta\n",
    "    grad[0, 0] = np.sum(np.multiply(error, X[:, 0])) / len(X)\n",
    "    return np.array(grad).ravel()"
   ]
  },
  {
   "cell_type": "code",
   "execution_count": 7,
   "metadata": {},
   "outputs": [],
   "source": [
    "from scipy.optimize import minimize\n",
    "def one_vs_all(X, y, num_labels, lr):\n",
    "    rows = X.shape[0]\n",
    "    params = X.shape[1]\n",
    "    all_theta = np.zeros((num_labels, params+1))\n",
    "    X = np.insert(X, 0, values=np.ones(rows), axis=1)\n",
    "    for i in range(1, num_labels + 1):\n",
    "        theta = np.zeros(params + 1)\n",
    "        y_i = [1 if (label == i) else 0 for label in y]\n",
    "        y_i = np.reshape(y_i, (rows, 1))\n",
    "        fmin = minimize(fun=cost, x0=theta, args=(X, y_i, lr), method='TNC', jac=gradient)\n",
    "        all_theta[i-1, :] = fmin.x\n",
    "    return all_theta\n",
    "        "
   ]
  },
  {
   "cell_type": "code",
   "execution_count": 11,
   "metadata": {},
   "outputs": [
    {
     "name": "stdout",
     "output_type": "stream",
     "text": [
      "[[-2.38329625e+00  0.00000000e+00  0.00000000e+00 ...  1.30469860e-03\n",
      "  -8.20996452e-10  0.00000000e+00]\n",
      " [-3.18487445e+00  0.00000000e+00  0.00000000e+00 ...  4.46292788e-03\n",
      "  -5.08767264e-04  0.00000000e+00]\n",
      " [-4.79972803e+00  0.00000000e+00  0.00000000e+00 ... -2.86921319e-05\n",
      "  -2.47368343e-07  0.00000000e+00]\n",
      " ...\n",
      " [-7.98793179e+00  0.00000000e+00  0.00000000e+00 ... -8.95180785e-05\n",
      "   7.21851354e-06  0.00000000e+00]\n",
      " [-4.57166512e+00  0.00000000e+00  0.00000000e+00 ... -1.33590481e-03\n",
      "   9.99352426e-05  0.00000000e+00]\n",
      " [-5.40436492e+00  0.00000000e+00  0.00000000e+00 ... -1.16595363e-04\n",
      "   7.88288067e-06  0.00000000e+00]]\n"
     ]
    }
   ],
   "source": [
    "all_theta = one_vs_all(data['X'], data['y'], 10, 1)\n",
    "print(all_theta)"
   ]
  },
  {
   "cell_type": "code",
   "execution_count": 16,
   "metadata": {},
   "outputs": [],
   "source": [
    "def predict_all(X, all_theta):\n",
    "    rows = X.shape[0]\n",
    "    params = X.shape[1]\n",
    "    X = np.insert(X, 0, values=np.ones(rows), axis=1)\n",
    "    X = np.matrix(X)\n",
    "    all_theta = np.matrix(all_theta)\n",
    "    h = sigmoid(X * all_theta.T)\n",
    "    h_argmax = np.argmax(h, axis=1)\n",
    "    h_argmax = h_argmax + 1\n",
    "    return h_argmax"
   ]
  },
  {
   "cell_type": "code",
   "execution_count": 19,
   "metadata": {},
   "outputs": [
    {
     "name": "stdout",
     "output_type": "stream",
     "text": [
      "accuracy = 94.46%\n"
     ]
    }
   ],
   "source": [
    "y_pred = predict_all(data['X'], all_theta)\n",
    "correct = [1 if (a == b) else 0 for (a, b) in zip(y_pred, data['y'])]\n",
    "acc = (sum(map(int, correct))) / float(len(correct))\n",
    "print('accuracy = {0}%'.format(acc * 100))"
   ]
  },
  {
   "cell_type": "code",
   "execution_count": null,
   "metadata": {},
   "outputs": [],
   "source": []
  }
 ],
 "metadata": {
  "kernelspec": {
   "display_name": "Python 3",
   "language": "python",
   "name": "python3"
  },
  "language_info": {
   "codemirror_mode": {
    "name": "ipython",
    "version": 3
   },
   "file_extension": ".py",
   "mimetype": "text/x-python",
   "name": "python",
   "nbconvert_exporter": "python",
   "pygments_lexer": "ipython3",
   "version": "3.7.2"
  }
 },
 "nbformat": 4,
 "nbformat_minor": 2
}
